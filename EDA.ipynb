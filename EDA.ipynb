{
 "cells": [
  {
   "cell_type": "code",
   "execution_count": 1,
   "metadata": {},
   "outputs": [],
   "source": [
    "import numpy as np \n",
    "import pandas as pd \n",
    "import seaborn as sns \n",
    "import matplotlib.pyplot as plt \n",
    "color = sns.color_palette()\n",
    "\n",
    "import subprocess\n",
    "from subprocess import check_output\n",
    "import gc \n",
    "%matplotlib inline "
   ]
  },
  {
   "cell_type": "code",
   "execution_count": 2,
   "metadata": {},
   "outputs": [
    {
     "name": "stdout",
     "output_type": "stream",
     "text": [
      "holidays_events.csv\n",
      "items.csv\n",
      "oil.csv\n",
      "sample_submission.csv\n",
      "stores.csv\n",
      "test.csv\n",
      "train.csv\n",
      "transactions.csv\n",
      "\n"
     ]
    }
   ],
   "source": [
    "files = check_output([\"ls\", \"Data/\"]).decode(\"utf8\")\n",
    "print(files)"
   ]
  },
  {
   "cell_type": "code",
   "execution_count": 6,
   "metadata": {},
   "outputs": [
    {
     "name": "stdout",
     "output_type": "stream",
     "text": [
      "The file:  holidays_events.csv has:  351 rows\n",
      "The file:  items.csv has:  4101 rows\n",
      "The file:  oil.csv has:  1219 rows\n",
      "The file:  sample_submission.csv has:  3370465 rows\n",
      "The file:  stores.csv has:  55 rows\n",
      "The file:  test.csv has:  3370465 rows\n",
      "The file:  train.csv has:  125497041 rows\n",
      "The file:  transactions.csv has:  83489 rows\n",
      "The file:   was not found.\n"
     ]
    }
   ],
   "source": [
    "for file in files.split(\"\\n\"):\n",
    "    path = \"Data/\" + file\n",
    "    try:\n",
    "        with open(path, 'r') as f:\n",
    "            lines = f.readlines()\n",
    "        print(\"The file: \", file, \"has: \", len(lines), \"rows\")\n",
    "    except:\n",
    "        print(\"The file: \", file, \"was not found.\")"
   ]
  },
  {
   "cell_type": "code",
   "execution_count": 7,
   "metadata": {},
   "outputs": [
    {
     "name": "stdout",
     "output_type": "stream",
     "text": [
      "done\n"
     ]
    }
   ],
   "source": [
    "Dir = \"Data\"\n",
    "test = pd.read_csv(f\"{Dir}/test.csv\")\n",
    "stores = pd.read_csv(f\"{Dir}/stores.csv\")\n",
    "items = pd.read_csv(f\"{Dir}/items.csv\")\n",
    "trans = pd.read_csv(f\"{Dir}/transactions.csv\")\n",
    "oil = pd.read_csv(f\"{Dir}/oil.csv\")\n",
    "holiday = pd.read_csv(f\"{Dir}/holidays_events.csv\")\n",
    "print(\"done\")"
   ]
  },
  {
   "cell_type": "code",
   "execution_count": 8,
   "metadata": {},
   "outputs": [
    {
     "name": "stdout",
     "output_type": "stream",
     "text": [
      "Dataset uses:  106.07284545898438  MB\n",
      "<class 'pandas.core.frame.DataFrame'>\n",
      "RangeIndex: 3370464 entries, 0 to 3370463\n",
      "Data columns (total 5 columns):\n",
      " #   Column       Dtype \n",
      "---  ------       ----- \n",
      " 0   id           int64 \n",
      " 1   date         object\n",
      " 2   store_nbr    int64 \n",
      " 3   item_nbr     int64 \n",
      " 4   onpromotion  bool  \n",
      "dtypes: bool(1), int64(3), object(1)\n",
      "memory usage: 295.7 MB\n",
      "None\n"
     ]
    }
   ],
   "source": [
    "mem_test = test.memory_usage(index=True).sum()\n",
    "print(\"Dataset uses: \",mem_test/1024**2,\" MB\")\n",
    "print(test.info(memory_usage=\"deep\"))"
   ]
  },
  {
   "cell_type": "code",
   "execution_count": 9,
   "metadata": {},
   "outputs": [
    {
     "name": "stdout",
     "output_type": "stream",
     "text": [
      "Index               128\n",
      "id             13481856\n",
      "date           26963712\n",
      "store_nbr       3370464\n",
      "item_nbr       13481856\n",
      "onpromotion     3370464\n",
      "dtype: int64\n",
      "test dataset uses  57.85797119140625  MB after changes\n",
      "memory saved = 48.214874267578125  MB\n"
     ]
    }
   ],
   "source": [
    "test['store_nbr'] = test['store_nbr'].astype(np.uint8)\n",
    "test['id'] = test['id'].astype(np.uint32)\n",
    "test['item_nbr'] = test['item_nbr'].astype(np.uint32)\n",
    "test['date'] = pd.to_datetime(test['date'], format=\"%Y-%m-%d\")\n",
    "print(test.memory_usage(index=True))\n",
    "new_mem_test = test.memory_usage(index=True).sum()\n",
    "print(\"test dataset uses \", new_mem_test / 1024**2, \" MB after changes\")\n",
    "print(\"memory saved =\",(mem_test-new_mem_test) / 1024**2,\" MB\")"
   ]
  },
  {
   "cell_type": "code",
   "execution_count": 11,
   "metadata": {},
   "outputs": [
    {
     "name": "stdout",
     "output_type": "stream",
     "text": [
      "               id  store_nbr       item_nbr  unit_sales\n",
      "count  100.000000      100.0     100.000000  100.000000\n",
      "mean    49.500000       25.0  186736.120000    5.019531\n",
      "std     29.011492        0.0   56520.574966   10.515625\n",
      "min      0.000000       25.0  103665.000000    1.000000\n",
      "25%     24.750000       25.0  128208.000000    1.000000\n",
      "50%     49.500000       25.0  172263.500000    2.000000\n",
      "75%     74.250000       25.0  231846.250000    5.000000\n",
      "max     99.000000       25.0  275823.000000   90.000000\n",
      "id             uint32\n",
      "store_nbr       uint8\n",
      "item_nbr       uint32\n",
      "unit_sales    float16\n",
      "dtype: object\n",
      "   onpromotion  Year  Month  Day\n",
      "0            0  2013      1    1\n",
      "1            0  2013      1    1\n",
      "2            0  2013      1    1\n",
      "3            0  2013      1    1\n",
      "4            0  2013      1    1\n",
      "onpromotion      int8\n",
      "Year           uint16\n",
      "Month           uint8\n",
      "Day             uint8\n",
      "dtype: object\n"
     ]
    }
   ],
   "source": [
    "dtype_dict = {\"id\": np.uint32,\n",
    "              \"store_nbr\": np.uint8,\n",
    "              \"item_nbr\": np.uint32,\n",
    "              \"unit_sales\": np.float16\n",
    "              }\n",
    "\n",
    "train_part1 = pd.read_csv(f\"{Dir}/train.csv\", nrows=100,\n",
    "                          dtype=dtype_dict, usecols=[0, 2, 3, 4])\n",
    "print(train_part1.describe())\n",
    "print(train_part1.dtypes)\n",
    "\n",
    "\n",
    "train_part2 = pd.read_csv(f\"{Dir}/train.csv\", nrows=10000,\n",
    "                          dtype=dtype_dict, usecols=[1, 5], parse_dates=[0])\n",
    "train_part2['Year'] = pd.DatetimeIndex(train_part2['date']).year\n",
    "train_part2['Month'] = pd.DatetimeIndex(train_part2['date']).month\n",
    "train_part2['Day'] = pd.DatetimeIndex(train_part2['date']).day.astype(np.uint8)\n",
    "del (train_part2['date'])\n",
    "train_part2['Day'] = train_part2['Day'].astype(np.uint8)\n",
    "train_part2['Month'] = train_part2['Month'].astype(np.uint8)\n",
    "train_part2['Year'] = train_part2['Year'].astype(np.uint16)\n",
    "\n",
    "train_part2[\"onpromotion\"].fillna(0, inplace=True)\n",
    "train_part2[\"onpromotion\"] = train_part2[\"onpromotion\"].astype(np.int8)\n",
    "print(train_part2.head())\n",
    "print(train_part2.dtypes)"
   ]
  },
  {
   "cell_type": "code",
   "execution_count": 12,
   "metadata": {},
   "outputs": [
    {
     "name": "stderr",
     "output_type": "stream",
     "text": [
      "C:\\Users\\anisr\\AppData\\Local\\Temp\\ipykernel_21316\\4016694863.py:1: DtypeWarning: Columns (5) have mixed types. Specify dtype option on import or set low_memory=False.\n",
      "  train_part2 = pd.read_csv(f\"{Dir}/train.csv\",\n"
     ]
    },
    {
     "name": "stdout",
     "output_type": "stream",
     "text": [
      "   onpromotion  Year  Month  Day\n",
      "0            0  2013      1    1\n",
      "1            0  2013      1    1\n",
      "2            0  2013      1    1\n",
      "3            0  2013      1    1\n",
      "4            0  2013      1    1\n",
      "onpromotion      int8\n",
      "Year           uint16\n",
      "Month           uint8\n",
      "Day             uint8\n",
      "dtype: object\n"
     ]
    }
   ],
   "source": [
    "train_part2 = pd.read_csv(f\"{Dir}/train.csv\",\n",
    "                          dtype=dtype_dict, usecols=[1, 5], parse_dates=[0])\n",
    "train_part2['Year'] = pd.DatetimeIndex(train_part2['date']).year\n",
    "train_part2['Month'] = pd.DatetimeIndex(train_part2['date']).month\n",
    "train_part2['Day'] = pd.DatetimeIndex(train_part2['date']).day.astype(np.uint8)\n",
    "del (train_part2['date'])\n",
    "train_part2['Day'] = train_part2['Day'].astype(np.uint8)\n",
    "train_part2['Month'] = train_part2['Month'].astype(np.uint8)\n",
    "train_part2['Year'] = train_part2['Year'].astype(np.uint16)\n",
    "\n",
    "train_part2[\"onpromotion\"].fillna(0, inplace=True)\n",
    "train_part2[\"onpromotion\"] = train_part2[\"onpromotion\"].astype(np.int8)\n",
    "print(train_part2.head())\n",
    "print(train_part2.dtypes)"
   ]
  },
  {
   "cell_type": "code",
   "execution_count": 13,
   "metadata": {},
   "outputs": [
    {
     "name": "stdout",
     "output_type": "stream",
     "text": [
      "id             uint32\n",
      "store_nbr       uint8\n",
      "item_nbr       uint32\n",
      "unit_sales    float32\n",
      "dtype: object\n"
     ]
    }
   ],
   "source": [
    "dtype_dict = {\"id\": np.uint32,\n",
    "              \"store_nbr\": np.uint8,\n",
    "              \"item_nbr\": np.uint32,\n",
    "              \"unit_sales\": np.float32\n",
    "              }\n",
    "\n",
    "train_part1 = pd.read_csv(f\"{Dir}/train.csv\",\n",
    "                          dtype=dtype_dict, usecols=[0, 2, 3, 4])\n",
    "print(train_part1.dtypes)"
   ]
  },
  {
   "cell_type": "code",
   "execution_count": 14,
   "metadata": {},
   "outputs": [
    {
     "name": "stdout",
     "output_type": "stream",
     "text": [
      "Index                128\n",
      "store_nbr      125497040\n",
      "item_nbr       501988160\n",
      "unit_sales     501988160\n",
      "onpromotion    125497040\n",
      "Year           250994080\n",
      "Month          125497040\n",
      "Day            125497040\n",
      "dtype: int64\n",
      "Train dataset uses  1675.5663757324219  MB after changes\n",
      "memory saved is approx 3444.433624267578  MB\n"
     ]
    }
   ],
   "source": [
    "train = pd.concat([train_part1.reset_index(drop=True), train_part2], axis=1)\n",
    "del (train_part1)\n",
    "del (train_part2)\n",
    "id = train['id']\n",
    "del (train['id'])\n",
    "print(train.memory_usage())\n",
    "\n",
    "mem_train = 5*1024**3\n",
    "new_mem_train = train.memory_usage().sum()\n",
    "print(\"Train dataset uses \", new_mem_train / 1024**2, \" MB after changes\")\n",
    "print(\"memory saved is approx\", (mem_train-new_mem_train) / 1024**2, \" MB\")"
   ]
  },
  {
   "cell_type": "code",
   "execution_count": null,
   "metadata": {},
   "outputs": [],
   "source": []
  }
 ],
 "metadata": {
  "kernelspec": {
   "display_name": "work",
   "language": "python",
   "name": "python3"
  },
  "language_info": {
   "codemirror_mode": {
    "name": "ipython",
    "version": 3
   },
   "file_extension": ".py",
   "mimetype": "text/x-python",
   "name": "python",
   "nbconvert_exporter": "python",
   "pygments_lexer": "ipython3",
   "version": "3.8.16"
  }
 },
 "nbformat": 4,
 "nbformat_minor": 2
}
